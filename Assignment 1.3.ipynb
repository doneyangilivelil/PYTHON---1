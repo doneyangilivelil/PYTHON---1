{
 "cells": [
  {
   "cell_type": "code",
   "execution_count": null,
   "metadata": {},
   "outputs": [],
   "source": [
    "#-------------------------------------------------------------------\n",
    "#  Assignment -1.3 \n",
    "#\n",
    "# Write a Python program to accept the user's first and last name and then getting them\n",
    "# printed in the the reverse order with a space between first name and last name.\n",
    "#\n",
    "#-------------------------------------------------------------------"
   ]
  },
  {
   "cell_type": "code",
   "execution_count": 5,
   "metadata": {},
   "outputs": [
    {
     "name": "stdout",
     "output_type": "stream",
     "text": [
      "Please enter your First name : John\n",
      "Please enter your Last name : Doe\n",
      "Reversed (Last name and First name) : eoD nhoJ\n",
      "Reversed (First name and Last name) : nhoJ eoD\n"
     ]
    }
   ],
   "source": [
    "first_name=input(\"Please enter your First name : \")\n",
    "last_name=input(\"Please enter your Last name : \")\n",
    "print('Reversed (Last name and First name) : '+last_name[::-1]+' '+first_name[::-1])\n",
    "print('Reversed (First name and Last name) : '+first_name[::-1]+' '+last_name[::-1])"
   ]
  }
 ],
 "metadata": {
  "kernelspec": {
   "display_name": "Python 3",
   "language": "python",
   "name": "python3"
  },
  "language_info": {
   "codemirror_mode": {
    "name": "ipython",
    "version": 3
   },
   "file_extension": ".py",
   "mimetype": "text/x-python",
   "name": "python",
   "nbconvert_exporter": "python",
   "pygments_lexer": "ipython3",
   "version": "3.6.4"
  }
 },
 "nbformat": 4,
 "nbformat_minor": 2
}
