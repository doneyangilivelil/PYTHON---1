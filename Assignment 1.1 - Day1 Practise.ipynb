{
 "cells": [
  {
   "cell_type": "code",
   "execution_count": 40,
   "metadata": {},
   "outputs": [
    {
     "name": "stdout",
     "output_type": "stream",
     "text": [
      "hello world\n"
     ]
    }
   ],
   "source": [
    "#-------------------------------------------------------------------\n",
    "#  Assignment -1 \n",
    "#\n",
    "#Submitting the random practise notes\n",
    "# As a proof of installing Anaconda and Jupyter installation\n",
    "#-------------------------------------------------------------------\n",
    "\n",
    "\n",
    "print(\"hello world\")"
   ]
  },
  {
   "cell_type": "markdown",
   "metadata": {},
   "source": [
    "normal typing\n"
   ]
  },
  {
   "cell_type": "code",
   "execution_count": 13,
   "metadata": {},
   "outputs": [
    {
     "data": {
      "text/plain": [
       "str"
      ]
     },
     "execution_count": 13,
     "metadata": {},
     "output_type": "execute_result"
    }
   ],
   "source": [
    "#Data type\n",
    "x=1\n",
    "type(x)\n",
    "y=True\n",
    "type(y)\n",
    "'Day'+str(1)\n",
    "#Boolean operation\n",
    "'a' is 'a'\n",
    "False or False\n",
    "True and False\n",
    "not False\n",
    "#No data by default..it takes a string\n",
    "bas=\"03-12-2018\"\n",
    "type(bas)"
   ]
  },
  {
   "cell_type": "code",
   "execution_count": 18,
   "metadata": {},
   "outputs": [
    {
     "name": "stdout",
     "output_type": "stream",
     "text": [
      "Less than 10\n"
     ]
    }
   ],
   "source": [
    "#branching with  : for indent\n",
    "i=6\n",
    "j=10\n",
    "if i < 3 and j <9:\n",
    "    print(\"Less than 3\")\n",
    "elif i < 10 and j < 11:\n",
    "    print (\"Less than 10\")\n",
    "else:\n",
    "    print(\"10 or more\")"
   ]
  },
  {
   "cell_type": "code",
   "execution_count": 41,
   "metadata": {
    "scrolled": true
   },
   "outputs": [
    {
     "data": {
      "text/plain": [
       "['hello',\n",
       " 56,\n",
       " 'world',\n",
       " '1',\n",
       " False,\n",
       " 'd',\n",
       " 'a',\n",
       " 'd',\n",
       " 'f',\n",
       " 'd',\n",
       " 'k',\n",
       " 'o',\n",
       " 'n',\n",
       " 'v',\n",
       " 'n',\n",
       " 's',\n",
       " 'd',\n",
       " 'f']"
      ]
     },
     "execution_count": 41,
     "metadata": {},
     "output_type": "execute_result"
    }
   ],
   "source": [
    "#List \n",
    "l=[]\n",
    "k=list()\n",
    "type(k)\n",
    "p=list('adfdkonvnsdf')\n",
    "a=[\"hello\",\"world\",'1',False]\n",
    "a.append('d')\n",
    "a.insert(1,56)\n",
    "a+p"
   ]
  },
  {
   "cell_type": "code",
   "execution_count": 33,
   "metadata": {},
   "outputs": [
    {
     "name": "stdout",
     "output_type": "stream",
     "text": [
      "hellohello\n",
      "112\n",
      "worldworld\n",
      "11\n",
      "0\n",
      "dd\n"
     ]
    }
   ],
   "source": [
    "# elem is required for loop\n",
    "for elem in a:\n",
    "    print(elem+elem)"
   ]
  },
  {
   "cell_type": "code",
   "execution_count": 1,
   "metadata": {
    "scrolled": true
   },
   "outputs": [
    {
     "data": {
      "text/plain": [
       "range(0, 10)"
      ]
     },
     "execution_count": 1,
     "metadata": {},
     "output_type": "execute_result"
    }
   ],
   "source": [
    "range(10)"
   ]
  },
  {
   "cell_type": "code",
   "execution_count": 27,
   "metadata": {},
   "outputs": [
    {
     "name": "stdout",
     "output_type": "stream",
     "text": [
      "It is not a string\n",
      "AA\n",
      "M\n",
      "y\n",
      " \n",
      "n\n",
      "a\n",
      "m\n",
      "e\n",
      " \n",
      "i\n",
      "s\n",
      " \n",
      "a\n",
      "n\n",
      "t\n",
      "o\n",
      "n\n",
      "y\n",
      "ZZ\n"
     ]
    }
   ],
   "source": [
    "#Practise--\n",
    "x=122\n",
    "y=\"Panorama\"\n",
    "\n",
    "a=True\n",
    "b=3-6j\n",
    "z=[x,y,a,b]\n",
    "#type(z)\n",
    "z\n",
    "#---------\n",
    "r=\"Name\"+str(123)\n",
    "type(r) is str\n",
    "#---Branching-----\n",
    "if type(z) is str:\n",
    "    print(\"It is a string\")\n",
    "else:\n",
    "    print(\"It is not a string\")\n",
    "#----list---\n",
    "l=list('My name is antony')\n",
    "l.append('ZZ')\n",
    "l.insert(0,'AA')\n",
    "l\n",
    "#--------\n"
   ]
  },
  {
   "cell_type": "code",
   "execution_count": 42,
   "metadata": {},
   "outputs": [
    {
     "name": "stdout",
     "output_type": "stream",
     "text": [
      "790\n",
      "[-10, -9, -8, -7, -6, -5, -4, -3, -2, -1]\n",
      "What is your nameDoney\n",
      "Hey..Is your name - Doney\n",
      "How old are you30\n",
      "That is good - 30\n"
     ]
    }
   ],
   "source": [
    "sum=0\n",
    "a=[2,44,66,87,34,67,22,445,23]\n",
    "for val in a:\n",
    "    sum=sum+val\n",
    "    \n",
    "print(sum)\n",
    "print(list(range(-10,0)))\n",
    "\n",
    "name=input(\"What is your name\")\n",
    "print(\"Hey..Is your name - \"+name)\n",
    "age=input(\"How old are you\")\n",
    "print(\"That is good - \"+ age)    "
   ]
  },
  {
   "cell_type": "raw",
   "metadata": {},
   "source": []
  }
 ],
 "metadata": {
  "kernelspec": {
   "display_name": "Python 3",
   "language": "python",
   "name": "python3"
  },
  "language_info": {
   "codemirror_mode": {
    "name": "ipython",
    "version": 3
   },
   "file_extension": ".py",
   "mimetype": "text/x-python",
   "name": "python",
   "nbconvert_exporter": "python",
   "pygments_lexer": "ipython3",
   "version": "3.6.4"
  }
 },
 "nbformat": 4,
 "nbformat_minor": 2
}
